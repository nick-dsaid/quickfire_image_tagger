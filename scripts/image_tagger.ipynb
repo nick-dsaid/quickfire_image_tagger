{
 "cells": [
  {
   "cell_type": "markdown",
   "id": "49672e13",
   "metadata": {},
   "source": [
    "<!--TABLE OF CONTENTS-->\n",
    "# Table of Contents:\n",
    "- [Notebook Config](#Notebook-Config)\n",
    "- [Config](#Config)\n",
    "  - [Input Configs](#Input-Configs)\n",
    "  - [Export Config](#Export-Config)\n",
    "- [Main Process: Generating Keywords](#Main-Process:-Generating-Keywords)\n",
    "- [Optional: Insert EXIF Tag to Image Files](#Optional:-Insert-EXIF-Tag-to-Image-Files)"
   ]
  },
  {
   "cell_type": "markdown",
   "id": "c76324e5-8812-440f-a76a-95cef6a5188e",
   "metadata": {},
   "source": [
    "# Notebook Config"
   ]
  },
  {
   "cell_type": "code",
   "execution_count": null,
   "id": "e5f39087-aa63-4503-8493-361deeb488b3",
   "metadata": {},
   "outputs": [],
   "source": [
    "import sys\n",
    "import io\n",
    "import os\n",
    "import re\n",
    "from PIL import Image\n",
    "import pandas as pd\n",
    "\n",
    "\n",
    "from google.cloud import vision"
   ]
  },
  {
   "cell_type": "markdown",
   "id": "e11c9d10-eb0d-4791-96f8-08830c23eda3",
   "metadata": {},
   "source": [
    "# Config"
   ]
  },
  {
   "cell_type": "code",
   "execution_count": null,
   "id": "a5e22ea4-1dae-416f-a3b7-fd9e52b6941a",
   "metadata": {},
   "outputs": [],
   "source": [
    "# Set the filepath to the Google Cloud Platform (GCP) Credential File\n",
    "os.environ[\"GOOGLE_APPLICATION_CREDENTIALS\"] = \"<your_credential>.json\""
   ]
  },
  {
   "cell_type": "markdown",
   "id": "7883ac4f-de63-41f5-b579-03e824b1b71f",
   "metadata": {
    "tags": []
   },
   "source": [
    "## Input Configs"
   ]
  },
  {
   "cell_type": "code",
   "execution_count": null,
   "id": "04feb8ea-ca9b-4447-aa74-0da6f31b0069",
   "metadata": {},
   "outputs": [],
   "source": [
    "# Folder containing the images to be tagged\n",
    "input_folder = os.path.join(os.path.pardir, \"inputs\")\n",
    "\n",
    "# Whether to include Images in Subfolders\n",
    "recursive = False"
   ]
  },
  {
   "cell_type": "markdown",
   "id": "5eb045a1-7218-49fa-9d55-e99ae99b2b5d",
   "metadata": {},
   "source": [
    "## Export Config"
   ]
  },
  {
   "cell_type": "code",
   "execution_count": null,
   "id": "3c30dbfd-c2c3-457b-add9-b164fe66bb93",
   "metadata": {},
   "outputs": [],
   "source": [
    "# FilePath for the results in .csv file\n",
    "output_filepath = os.path.join(os.path.pardir, \"outputs\", \"Results_tagged_images.csv\")\n",
    "\n",
    "# Maximum Number of Keywords to extract per image (Set 0 as Unlimited)\n",
    "maxkeywords = 0\n",
    "\n",
    "# Whether to export the relevance score of each keyword (\"yes\" or \"no\")\n",
    "export_score = 'yes'\n"
   ]
  },
  {
   "cell_type": "markdown",
   "id": "72fa8a53-8972-45dc-b671-c2232ddfa732",
   "metadata": {},
   "source": [
    "# Main Process: Generating Keywords"
   ]
  },
  {
   "cell_type": "code",
   "execution_count": null,
   "id": "21ce6d24-b935-4f1c-9bf5-442a3c762b60",
   "metadata": {},
   "outputs": [],
   "source": [
    "# Pre-scan the directories\n",
    "pat = re.compile('/\\.')\n",
    "n_files = 0\n",
    "for root, dirs, files in os.walk(input_folder, topdown=False):\n",
    "    if len(pat.findall(root)) == 0:\n",
    "        n_files += len(files)\n",
    "    if not recursive:\n",
    "        break\n",
    "\n",
    "\n",
    "# Instantiates a client\n",
    "client = vision.ImageAnnotatorClient()\n",
    "df = []\n",
    "\n",
    "counter = 0\n",
    "for root, dirs, files in os.walk(input_folder, topdown=True):\n",
    "    # Ignore folder starts with .\n",
    "    if len(pat.findall(root)) == 0:\n",
    "        for filename in files:\n",
    "            if str(filename).lower().endswith(('.jpeg', 'jpg', 'png', 'gif', 'bmp', 'tiff')):\n",
    "                img_filepath = os.path.join(root, filename)\n",
    "\n",
    "                with io.open(img_filepath, 'rb') as image_file:\n",
    "                    content = image_file.read()\n",
    "                    image = vision.Image(content=content)\n",
    "\n",
    "                response = client.label_detection(image=image)\n",
    "                results = [(os.path.join(root, filename), x.description, x.score) for x in response.label_annotations]\n",
    "                \n",
    "                # Limited to certain keywords\n",
    "                dft = pd.DataFrame(results, columns=['filepath', 'keyword', 'relevance'])\n",
    "                dft = df[df.keyword.isin(my_custom_list)]\n",
    "\n",
    "                df.append(dft)\n",
    "\n",
    "                counter += 1\n",
    "                print(\"--------------------------\")\n",
    "                print(\"Start to generate tags for the images.\")\n",
    "                print(\"progress: {}/{}\".format(counter, n_files))\n",
    "        if not recursive:\n",
    "            break\n",
    "\n",
    "df = pd.concat(df, axis=0, ignore_index=True, sort=False)\n",
    "df = df.sort_values(['filepath', 'relevance'], axis=0, ascending=False)\n",
    "\n",
    "if maxkeywords > 0:\n",
    "    df = df.groupby('filepath').head(maxkeywords).reset_index()\n",
    "if export_score == \"no\":\n",
    "    df = df.drop('relevance', axis=1)\n",
    "\n",
    "df.to_csv(output_filepath, index=False, encoding=\"utf-8\")\n",
    "print(\"--------------------------\")\n",
    "print(\"csv. file with tagged records has been exported to {}\".format(output_filepath))"
   ]
  },
  {
   "cell_type": "markdown",
   "id": "ba871004-76a7-4024-8243-e44a93f042eb",
   "metadata": {},
   "source": [
    "# Optional: Insert EXIF Tag to Image Files"
   ]
  },
  {
   "cell_type": "code",
   "execution_count": null,
   "id": "a120126c-ec77-4854-b266-959d11040203",
   "metadata": {},
   "outputs": [],
   "source": [
    "remove_existing_tags = True"
   ]
  },
  {
   "cell_type": "code",
   "execution_count": null,
   "id": "b6950bd7-4c26-443d-8e3c-a6288b06c295",
   "metadata": {},
   "outputs": [],
   "source": [
    "df = pd.read_csv(output_filepath)\n",
    "df = df.groupby('filepath').apply(lambda x: ', '.join(x.keyword)).reset_index()\n",
    "df.columns = ['filepath', 'tags_string']"
   ]
  },
  {
   "cell_type": "code",
   "execution_count": null,
   "id": "e93a277d-772f-4140-8853-dc20589e88f1",
   "metadata": {},
   "outputs": [],
   "source": [
    "counter = 0\n",
    "total_len = len(df)\n",
    "for index, row in df.iterrows():\n",
    "    image = Image.open(row.filepath)\n",
    "\n",
    "    XPKeywords = 0x9C9E\n",
    "    #XPComment = 0x9C9C\n",
    "    exifdata = image.getexif()\n",
    "\n",
    "    if remove_existing_tags:\n",
    "        exifdata[XPKeywords] = row.tags_string.encode(\"utf16\")\n",
    "    else:\n",
    "        tags_string_concat = exifdata[XPKeywords].decode('utf16') + ', ' + row.tags_string\n",
    "        exifdata[XPKeywords] = tags_string_concat.encode(\"utf16\")\n",
    "\n",
    "    image.save(row.filepath, exif=exifdata)\n",
    "\n",
    "\n",
    "    # progress\n",
    "    counter += 1\n",
    "    print(\"progress: {}/{}\".format(counter, total_len))"
   ]
  },
  {
   "cell_type": "code",
   "execution_count": null,
   "id": "97bd26dd-5671-4394-a459-218027372027",
   "metadata": {},
   "outputs": [],
   "source": []
  }
 ],
 "metadata": {
  "kernelspec": {
   "display_name": "Python 3",
   "language": "python",
   "name": "python3"
  },
  "language_info": {
   "codemirror_mode": {
    "name": "ipython",
    "version": 3
   },
   "file_extension": ".py",
   "mimetype": "text/x-python",
   "name": "python",
   "nbconvert_exporter": "python",
   "pygments_lexer": "ipython3",
   "version": "3.8.8"
  }
 },
 "nbformat": 4,
 "nbformat_minor": 5
}
